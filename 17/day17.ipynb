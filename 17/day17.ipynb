{
 "cells": [
  {
   "cell_type": "code",
   "execution_count": 1,
   "metadata": {},
   "outputs": [],
   "source": [
    "f = open('input.txt')\n",
    "raw = f.read()[:-1]\n",
    "f.close()"
   ]
  },
  {
   "cell_type": "code",
   "execution_count": 7,
   "metadata": {},
   "outputs": [],
   "source": [
    "sample_data = '''.#.\n",
    "..#\n",
    "###'''.split('\\n')"
   ]
  },
  {
   "cell_type": "code",
   "execution_count": 4,
   "metadata": {},
   "outputs": [],
   "source": [
    "data = raw.split('\\n')"
   ]
  },
  {
   "cell_type": "code",
   "execution_count": 148,
   "metadata": {},
   "outputs": [],
   "source": [
    "class EnergySource:\n",
    "    def __init__(self, initial_state_array):\n",
    "        self.initial_state = initial_state_array\n",
    "        self.grid = {'0': self.initial_state}\n",
    "    \n",
    "    def active_neighbours(self, x, y, z):\n",
    "        #return number of active neighbours\n",
    "        ans = 0\n",
    "        for dz in [-1,0,1]:\n",
    "            for dy in [-1,0,1]:\n",
    "                for dx in [-1,0,1]:\n",
    "                    if (dx == 0) & (dy == 0) & (dz == 0):\n",
    "                        pass\n",
    "                    elif (x + dx >= 0) & (y + dy >= 0):\n",
    "                        try:\n",
    "                            symbol = self.grid[str(z + dz)][y + dy][x + dx]\n",
    "                            if symbol == '#':\n",
    "                                ans += 1\n",
    "                        except (KeyError, IndexError):\n",
    "                            pass\n",
    "        return ans\n",
    "\n",
    "#If a cube is active and exactly 2 or 3 of its neighbors are also active, the cube remains active. \n",
    "#Otherwise, the cube becomes inactive.\n",
    "\n",
    "#If a cube is inactive but exactly 3 of its neighbors are active, the cube becomes active. \n",
    "#Otherwise, the cube remains inactive.\n",
    "    \n",
    "    def new_charge(self, x, y, z):\n",
    "        z = int(z)\n",
    "        symbol = self.grid[str(z)][y][x]\n",
    "        if symbol == '#':\n",
    "            if self.active_neighbours(x, y, z) not in [2, 3]:\n",
    "                symbol = '.'\n",
    "        elif symbol == '.':\n",
    "            if self.active_neighbours(x, y, z) == 3:\n",
    "                symbol = '#'\n",
    "        else:\n",
    "            print(f'Unknown symbol: {symbol}')\n",
    "            symbol = None\n",
    "        return symbol\n",
    "\n",
    "    \n",
    "    def boot(self, cycles):\n",
    "        # extend space\n",
    "        replacement = []\n",
    "        for line in self.grid['0']:\n",
    "            replacement.append('.' * cycles + line + '.' * cycles)\n",
    "            self.grid['0'] = replacement\n",
    "        self.grid['0'] = ['.' * len(self.grid['0'][0])] * cycles + self.grid['0'] + ['.' * len(self.grid['0'][0])] * cycles\n",
    "        \n",
    "        for i in range(1, cycles + 1):\n",
    "            self.grid[str(i)] = self.grid[str(-i)] = ['.' * len(self.grid['0'][0])] * len(self.grid['0'])\n",
    "            \n",
    "        for _ in range(cycles):\n",
    "            new_grid = {}\n",
    "            for z in self.grid:\n",
    "                new_array = []\n",
    "                for y, line in enumerate(self.grid[z]):\n",
    "                    new_line = ''\n",
    "                    for x, _ in enumerate(line):\n",
    "                        new_line += self.new_charge(x, y, z)\n",
    "                    new_array.append(new_line)\n",
    "                new_grid[z] = new_array\n",
    "            self.grid = new_grid\n",
    "    \n",
    "    def active_cubes(self):\n",
    "        ans = 0\n",
    "        for z in self.grid:\n",
    "            for line in self.grid[z]:\n",
    "                for symbol in line:\n",
    "                    if symbol == '#':\n",
    "                        ans += 1\n",
    "        return ans"
   ]
  },
  {
   "cell_type": "code",
   "execution_count": 159,
   "metadata": {},
   "outputs": [
    {
     "name": "stdout",
     "output_type": "stream",
     "text": [
      "True\n"
     ]
    }
   ],
   "source": [
    "test = EnergySource(sample_data)\n",
    "test.boot(6)\n",
    "print(test.active_cubes() == 112)"
   ]
  },
  {
   "cell_type": "code",
   "execution_count": 161,
   "metadata": {},
   "outputs": [
    {
     "name": "stdout",
     "output_type": "stream",
     "text": [
      "211\n",
      "CPU times: user 646 ms, sys: 2.31 ms, total: 649 ms\n",
      "Wall time: 647 ms\n"
     ]
    }
   ],
   "source": [
    "%%time\n",
    "solve = EnergySource(data)\n",
    "solve.boot(6)\n",
    "print(solve.active_cubes())"
   ]
  },
  {
   "cell_type": "code",
   "execution_count": 194,
   "metadata": {},
   "outputs": [],
   "source": [
    "class HyperEnergySource:\n",
    "    def __init__(self, initial_state_array):\n",
    "        self.initial_state = initial_state_array\n",
    "        self.grid = {'0': {'0': self.initial_state}}\n",
    "        \n",
    "    def __repr__(self):\n",
    "        for w in self.grid:\n",
    "            for z in self.grid[w]:\n",
    "                print(f'w = {w}, z = {z}')\n",
    "                for line in self.grid[w][z]:\n",
    "                    print(line)\n",
    "    \n",
    "    def active_neighbours(self, x, y, z, w):\n",
    "        ans = 0\n",
    "        for dw in [-1,0,1]:\n",
    "            for dz in [-1,0,1]:\n",
    "                for dy in [-1,0,1]:\n",
    "                    for dx in [-1,0,1]:\n",
    "                        if (dx == 0) & (dy == 0) & (dz == 0) & (dw == 0):\n",
    "                            pass\n",
    "                        elif (x + dx >= 0) & (y + dy >= 0):\n",
    "                            try:\n",
    "                                symbol = self.grid[str(w + dw)][str(z + dz)][y + dy][x + dx]\n",
    "                                if symbol == '#':\n",
    "                                    ans += 1\n",
    "                            except (KeyError, IndexError):\n",
    "                                pass\n",
    "        return ans\n",
    "    \n",
    "    def new_charge(self, x, y, z, w):\n",
    "        z = int(z)\n",
    "        w = int(w)\n",
    "        symbol = self.grid[str(w)][str(z)][y][x]\n",
    "        if symbol == '#':\n",
    "            if self.active_neighbours(x, y, z, w) not in [2, 3]:\n",
    "                symbol = '.'\n",
    "        elif symbol == '.':\n",
    "            if self.active_neighbours(x, y, z, w) == 3:\n",
    "                symbol = '#'\n",
    "        else:\n",
    "            print(f'Unknown symbol: {symbol}')\n",
    "            symbol = None\n",
    "        return symbol\n",
    "   \n",
    "    def boot(self, cycles):\n",
    "        # extend space\n",
    "        replacement = []\n",
    "        for line in self.grid['0']['0']:\n",
    "            replacement.append('.' * cycles + line + '.' * cycles)\n",
    "        self.grid['0']['0'] = replacement\n",
    "        self.grid['0']['0'] = ['.' * len(self.grid['0']['0'][0])] * cycles \\\n",
    "                               + self.grid['0']['0'] + ['.' * len(self.grid['0']['0'][0])] * cycles\n",
    "        \n",
    "        x_length = len(self.grid['0']['0'][0])\n",
    "        y_length = len(self.grid['0']['0'])\n",
    "        \n",
    "        for i in range(cycles + 1):\n",
    "            if i != 0:\n",
    "                self.grid[str(i)] = {}\n",
    "                self.grid[str(-i)] = {}\n",
    "            for j in range(cycles + 1):\n",
    "                if (i == 0) & (j == 0):\n",
    "                    pass\n",
    "                else:\n",
    "                    self.grid[str(i)][str(j)] = ['.' * x_length] * y_length\n",
    "                    self.grid[str(i)][str(-j)] = ['.' * x_length] * y_length\n",
    "                    self.grid[str(-i)][str(j)] = ['.' * x_length] * y_length\n",
    "                    self.grid[str(-i)][str(-j)] = ['.' * x_length] * y_length\n",
    "\n",
    "        # run cycles   \n",
    "        for _ in range(cycles):\n",
    "            new_hyper_grid = {}\n",
    "            for w in self.grid:\n",
    "                new_grid = {}\n",
    "                for z in self.grid[w]:\n",
    "                    new_array = []\n",
    "                    for y, line in enumerate(self.grid[w][z]):\n",
    "                        new_line = ''\n",
    "                        for x, _ in enumerate(line):\n",
    "                            new_line += self.new_charge(x, y, z, w)\n",
    "                        new_array.append(new_line)\n",
    "                    new_grid[z] = new_array    \n",
    "                new_hyper_grid[w] = new_grid\n",
    "            self.grid = new_hyper_grid\n",
    "    \n",
    "    def active_cubes(self):\n",
    "        ans = 0\n",
    "        for w in self.grid:\n",
    "            for z in self.grid[w]:\n",
    "                for line in self.grid[w][z]:\n",
    "                    for symbol in line:\n",
    "                        if symbol == '#':\n",
    "                            ans += 1\n",
    "        return ans"
   ]
  },
  {
   "cell_type": "code",
   "execution_count": 197,
   "metadata": {},
   "outputs": [
    {
     "name": "stdout",
     "output_type": "stream",
     "text": [
      "True \n",
      "\n",
      "CPU times: user 19.5 s, sys: 9.49 ms, total: 19.5 s\n",
      "Wall time: 19.6 s\n"
     ]
    }
   ],
   "source": [
    "%%time\n",
    "test = HyperEnergySource(sample_data)\n",
    "test.boot(6)\n",
    "print(test.active_cubes() == 848, '\\n')"
   ]
  },
  {
   "cell_type": "code",
   "execution_count": 199,
   "metadata": {},
   "outputs": [
    {
     "name": "stdout",
     "output_type": "stream",
     "text": [
      "1952\n",
      "CPU times: user 35.3 s, sys: 17.5 ms, total: 35.3 s\n",
      "Wall time: 35.3 s\n"
     ]
    }
   ],
   "source": [
    "%%time\n",
    "solve = HyperEnergySource(data)\n",
    "solve.boot(6)\n",
    "print(solve.active_cubes())"
   ]
  }
 ],
 "metadata": {
  "kernelspec": {
   "display_name": "Python 3",
   "language": "python",
   "name": "python3"
  },
  "language_info": {
   "codemirror_mode": {
    "name": "ipython",
    "version": 3
   },
   "file_extension": ".py",
   "mimetype": "text/x-python",
   "name": "python",
   "nbconvert_exporter": "python",
   "pygments_lexer": "ipython3",
   "version": "3.7.6"
  }
 },
 "nbformat": 4,
 "nbformat_minor": 4
}
