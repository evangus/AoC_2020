{
 "cells": [
  {
   "cell_type": "code",
   "execution_count": 1,
   "metadata": {},
   "outputs": [],
   "source": [
    "f = open('input.txt')\n",
    "raw = f.read()\n",
    "f.close()"
   ]
  },
  {
   "cell_type": "code",
   "execution_count": 3,
   "metadata": {},
   "outputs": [],
   "source": [
    "data = raw[:-1].split('\\n')"
   ]
  },
  {
   "cell_type": "code",
   "execution_count": 42,
   "metadata": {},
   "outputs": [],
   "source": [
    "sample_data = 'F10\\nN3\\nF7\\nR90\\nF11'.split('\\n')"
   ]
  },
  {
   "cell_type": "markdown",
   "metadata": {},
   "source": [
    "The navigation instructions (your puzzle input) consists of a sequence of single-character actions paired with integer input values. After staring at them for a few minutes, you work out what they probably mean:\n",
    "\n",
    "- Action `N` means to move **north** by the given value.\n",
    "- Action `S` means to move **south** by the given value.\n",
    "- Action `E` means to move **east** by the given value.\n",
    "- Action `W` means to move **west** by the given value.\n",
    "- Action `L` means to turn **left** the given number of degrees.\n",
    "- Action `R` means to turn **right** the given number of degrees.\n",
    "- Action `F` means to move **forward** by the given value in the direction the ship is currently facing.\n",
    "\n",
    "The ship starts by facing `east`. Only the `L` and `R` actions change the direction the ship is facing. (That is, if the ship is facing east and the next instruction is `N10`, the ship would move north 10 units, but would still move east if the following action were `F`.)\n",
    "<img src=\"https://www.katrinaaxford.com/uploads/1/3/9/9/13998720/published/compass-image.jpg\" width=\"200\" height=\"200\">"
   ]
  },
  {
   "cell_type": "code",
   "execution_count": 66,
   "metadata": {},
   "outputs": [],
   "source": [
    "class Ferry:\n",
    "    directionChart = {\n",
    "        ('north', 'L90'): 'west',\n",
    "        ('north', 'L180'): 'south',\n",
    "        ('north', 'L270'): 'east',\n",
    "        ('north', 'R90'): 'east',\n",
    "        ('north', 'R180'): 'south',\n",
    "        ('north', 'R270'): 'west',\n",
    "        ('south', 'L90'): 'east',\n",
    "        ('south', 'L180'): 'north',\n",
    "        ('south', 'L270'): 'west',\n",
    "        ('south', 'R90'): 'west',\n",
    "        ('south', 'R180'): 'north',\n",
    "        ('south', 'R270'): 'east',\n",
    "        ('east', 'L90'): 'north',\n",
    "        ('east', 'L180'): 'west',\n",
    "        ('east', 'L270'): 'south',\n",
    "        ('east', 'R90'): 'south',\n",
    "        ('east', 'R180'): 'west',\n",
    "        ('east', 'R270'): 'north',\n",
    "        ('west', 'L90'): 'south',\n",
    "        ('west', 'L180'): 'east',\n",
    "        ('west', 'L270'): 'north',\n",
    "        ('west', 'R90'): 'north',\n",
    "        ('west', 'R180'): 'east',\n",
    "        ('west', 'R270'): 'south'\n",
    "    }\n",
    "    \n",
    "    def __init__(self, nav_instructions_array):\n",
    "        self.actions = nav_instructions_array\n",
    "        self.facing = 'east'\n",
    "        self.north = 0\n",
    "        self.east = 0\n",
    "        self.next_action = 0\n",
    "        self.log = ''\n",
    "        \n",
    "    def action(self):\n",
    "        instruction = self.actions[self.next_action]\n",
    "        self.log += f'{self.next_action} {instruction}: '\n",
    "        if instruction[0] in ['N', 'S', 'E', 'W']:\n",
    "            self.move_cardinal(instruction)\n",
    "        elif instruction[0] == 'F':\n",
    "            self.move_forward(instruction)\n",
    "        elif instruction[0] in ['R', 'L']:\n",
    "            self.turn(instruction)\n",
    "        self.next_action += 1\n",
    "        \n",
    "    def move_cardinal(self, instruction):\n",
    "        if instruction[0] == 'N':\n",
    "            self.north += int(instruction[1:])\n",
    "        elif instruction[0] == 'S':\n",
    "            self.north -= int(instruction[1:])\n",
    "        elif instruction[0] == 'E':\n",
    "            self.east += int(instruction[1:])\n",
    "        elif instruction[0] == 'W':\n",
    "            self.east -= int(instruction[1:])\n",
    "        self.log += f'moved to north {self.north}, east {self.east}\\n'\n",
    "    \n",
    "    def move_forward(self, instruction):\n",
    "        if self.facing == 'north':\n",
    "            self.north += int(instruction[1:])\n",
    "        elif self.facing == 'south':\n",
    "            self.north -= int(instruction[1:])\n",
    "        elif self.facing == 'east':\n",
    "            self.east += int(instruction[1:])\n",
    "        elif self.facing == 'west':\n",
    "            self.east -= int(instruction[1:])\n",
    "        self.log += f'moved forward to north {self.north}, east {self.east}\\n'\n",
    "    \n",
    "    def turn(self, instruction):\n",
    "        self.facing = Ferry.directionChart[(self.facing, instruction)]\n",
    "        self.log += f'turned to {self.facing}\\n'\n",
    "        \n",
    "    def manhattan_distance(self):\n",
    "        print(abs(self.north) + abs(self.east))\n",
    "        \n",
    "    def print_log(self):\n",
    "        print(self.log)\n",
    "        \n",
    "    def sail(self):\n",
    "        while True:\n",
    "            try:\n",
    "                self.action()\n",
    "            except IndexError:\n",
    "                break"
   ]
  },
  {
   "cell_type": "code",
   "execution_count": 67,
   "metadata": {},
   "outputs": [],
   "source": [
    "test = Ferry(data)"
   ]
  },
  {
   "cell_type": "code",
   "execution_count": 68,
   "metadata": {},
   "outputs": [],
   "source": [
    "test.sail()"
   ]
  },
  {
   "cell_type": "code",
   "execution_count": 70,
   "metadata": {},
   "outputs": [
    {
     "name": "stdout",
     "output_type": "stream",
     "text": [
      "1319\n"
     ]
    }
   ],
   "source": [
    "test.manhattan_distance()"
   ]
  },
  {
   "cell_type": "code",
   "execution_count": 88,
   "metadata": {},
   "outputs": [],
   "source": [
    "class ProperFerry(Ferry):\n",
    "    def __init__(self, nav_instructions_array):\n",
    "        super().__init__(nav_instructions_array)\n",
    "        self.waypoint_north = 1\n",
    "        self.waypoint_east = 10\n",
    "    \n",
    "    def move_cardinal(self, instruction):\n",
    "        self.move_waypoint(instruction)\n",
    "    \n",
    "    def move_waypoint(self, instruction):\n",
    "        if instruction[0] == 'N':\n",
    "            self.waypoint_north += int(instruction[1:])\n",
    "        elif instruction[0] == 'S':\n",
    "            self.waypoint_north -= int(instruction[1:])\n",
    "        elif instruction[0] == 'E':\n",
    "            self.waypoint_east += int(instruction[1:])\n",
    "        elif instruction[0] == 'W':\n",
    "            self.waypoint_east -= int(instruction[1:])\n",
    "        self.log += f'moved waypoint to N{self.waypoint_north}, E{self.waypoint_east}\\n'\n",
    "    \n",
    "    def move_forward(self, instruction):\n",
    "        self.north += self.waypoint_north * int(instruction[1:])\n",
    "        self.east += self.waypoint_east * int(instruction[1:])\n",
    "        self.log += f'moved forward to north {self.north}, east {self.east}\\n'\n",
    "    \n",
    "    def turn(self, instruction):\n",
    "        if instruction in ['L90', 'R270']:\n",
    "            self.waypoint_north, self.waypoint_east = self.waypoint_east, -1 * self.waypoint_north\n",
    "        elif instruction in ['L270', 'R90']:\n",
    "            self.waypoint_north, self.waypoint_east = -1 * self.waypoint_east, self.waypoint_north\n",
    "        elif instruction in ['L180', 'R180']:\n",
    "            self.waypoint_north = -1 * self.waypoint_north\n",
    "            self.waypoint_east = -1 * self.waypoint_east\n",
    "        self.log += f'rotated waypoint to N{self.waypoint_north}, E{self.waypoint_east}\\n'\n",
    "        "
   ]
  },
  {
   "cell_type": "code",
   "execution_count": 93,
   "metadata": {},
   "outputs": [],
   "source": [
    "test2 = ProperFerry(data)"
   ]
  },
  {
   "cell_type": "code",
   "execution_count": 94,
   "metadata": {},
   "outputs": [],
   "source": [
    "test2.sail()"
   ]
  },
  {
   "cell_type": "code",
   "execution_count": 96,
   "metadata": {},
   "outputs": [
    {
     "name": "stdout",
     "output_type": "stream",
     "text": [
      "62434\n"
     ]
    }
   ],
   "source": [
    "test2.manhattan_distance()"
   ]
  }
 ],
 "metadata": {
  "kernelspec": {
   "display_name": "Python 3",
   "language": "python",
   "name": "python3"
  },
  "language_info": {
   "codemirror_mode": {
    "name": "ipython",
    "version": 3
   },
   "file_extension": ".py",
   "mimetype": "text/x-python",
   "name": "python",
   "nbconvert_exporter": "python",
   "pygments_lexer": "ipython3",
   "version": "3.7.6"
  }
 },
 "nbformat": 4,
 "nbformat_minor": 4
}
