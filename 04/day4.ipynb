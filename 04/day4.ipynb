{
 "cells": [
  {
   "cell_type": "code",
   "execution_count": 23,
   "metadata": {},
   "outputs": [],
   "source": [
    "import re"
   ]
  },
  {
   "cell_type": "code",
   "execution_count": 1,
   "metadata": {},
   "outputs": [],
   "source": [
    "f = open(\"input.txt\")\n",
    "raw = f.read()\n",
    "f.close()"
   ]
  },
  {
   "cell_type": "code",
   "execution_count": 4,
   "metadata": {},
   "outputs": [],
   "source": [
    "data = raw[:-1].split('\\n\\n')"
   ]
  },
  {
   "cell_type": "code",
   "execution_count": 5,
   "metadata": {},
   "outputs": [
    {
     "data": {
      "text/plain": [
       "280"
      ]
     },
     "execution_count": 5,
     "metadata": {},
     "output_type": "execute_result"
    }
   ],
   "source": [
    "len(data)"
   ]
  },
  {
   "cell_type": "markdown",
   "metadata": {},
   "source": [
    "```\n",
    "byr (Birth Year)\n",
    "iyr (Issue Year)\n",
    "eyr (Expiration Year)\n",
    "hgt (Height)\n",
    "hcl (Hair Color)\n",
    "ecl (Eye Color)\n",
    "pid (Passport ID)\n",
    "cid (Country ID) –– ok to skip in North Pole Credentials\n",
    "```\n",
    "Assuming there are no empty fields:"
   ]
  },
  {
   "cell_type": "code",
   "execution_count": 17,
   "metadata": {},
   "outputs": [],
   "source": [
    "required_fields = ['byr', 'iyr', 'eyr', 'hgt', 'hcl', 'ecl', 'pid']\n",
    "\n",
    "def check_record_naive(record, fields = required_fields):\n",
    "    ans = True\n",
    "    for field in fields:\n",
    "        ans = ans * (field in record)\n",
    "    return bool(ans)"
   ]
  },
  {
   "cell_type": "code",
   "execution_count": 18,
   "metadata": {},
   "outputs": [
    {
     "data": {
      "text/plain": [
       "202"
      ]
     },
     "execution_count": 18,
     "metadata": {},
     "output_type": "execute_result"
    }
   ],
   "source": [
    "sum(list(map(check_record_naive, data)))"
   ]
  },
  {
   "cell_type": "markdown",
   "metadata": {},
   "source": [
    "```\n",
    "byr (Birth Year) - four digits; at least 1920 and at most 2002.\n",
    "iyr (Issue Year) - four digits; at least 2010 and at most 2020.\n",
    "eyr (Expiration Year) - four digits; at least 2020 and at most 2030.\n",
    "hgt (Height) - a number followed by either cm or in:\n",
    "    If cm, the number must be at least 150 and at most 193.\n",
    "    If in, the number must be at least 59 and at most 76.\n",
    "hcl (Hair Color) - a # followed by exactly six characters 0-9 or a-f.\n",
    "ecl (Eye Color) - exactly one of: amb blu brn gry grn hzl oth.\n",
    "pid (Passport ID) - a nine-digit number, including leading zeroes.\n",
    "cid (Country ID) - ignored, missing or not.\n",
    "```"
   ]
  },
  {
   "cell_type": "code",
   "execution_count": 122,
   "metadata": {},
   "outputs": [],
   "source": [
    "def check_byr(data):\n",
    "    return ((len(data) == 4) & (int(data) >= 1920) & (int(data) <= 2002))\n",
    "\n",
    "def check_iyr(data):\n",
    "    return ((len(data) == 4) & (int(data) >= 2010) & (int(data) <= 2020))\n",
    "\n",
    "def check_eyr(data):\n",
    "    return ((len(data) == 4) & (int(data) >= 2020) & (int(data) <= 2030))\n",
    "\n",
    "def check_hgt(data):\n",
    "    if data[-2:] == 'cm':\n",
    "        return ((int(data[:-2]) >= 150) & (int(data[:-2]) <= 193))\n",
    "    elif data[-2:] == 'in':\n",
    "        return ((int(data[:-2]) >= 59) & (int(data[:-2]) <= 76))\n",
    "    else:\n",
    "        return False\n",
    "\n",
    "def check_hcl(data):\n",
    "    if len(data)!=7:\n",
    "        return False\n",
    "    elif data[0]!='#':\n",
    "        return False\n",
    "    else:\n",
    "        ans = True\n",
    "        for i in data[1:]:\n",
    "            ans = ans * (i in '0123456789abcdef')\n",
    "        return bool(ans)\n",
    "\n",
    "def check_ecl(data):\n",
    "    return (data in ['amb', 'blu', 'brn', 'gry', 'grn', 'hzl', 'oth'])\n",
    "\n",
    "def check_pid(data):\n",
    "    return (data.isdigit() & (len(data) == 9))\n",
    "\n",
    "def check_cid(data):\n",
    "    return True"
   ]
  },
  {
   "cell_type": "code",
   "execution_count": 123,
   "metadata": {},
   "outputs": [],
   "source": [
    "function_dict = {\n",
    "    'byr': check_byr, \n",
    "    'iyr': check_iyr, \n",
    "    'eyr': check_eyr, \n",
    "    'hgt': check_hgt, \n",
    "    'hcl': check_hcl, \n",
    "    'ecl': check_ecl, \n",
    "    'pid': check_pid, \n",
    "    'cid': check_cid\n",
    "}\n",
    "\n",
    "def universal_check(name, *args):\n",
    "    return function_dict[name](*args)"
   ]
  },
  {
   "cell_type": "code",
   "execution_count": 134,
   "metadata": {},
   "outputs": [],
   "source": [
    "def check_record(record):\n",
    "    ans = True\n",
    "    for field in re.split(' |\\n', record):\n",
    "        ans = ans * universal_check(field[:3], field[4:])\n",
    "    return bool(ans)"
   ]
  },
  {
   "cell_type": "code",
   "execution_count": 135,
   "metadata": {},
   "outputs": [],
   "source": [
    "def ultimate_check(data):\n",
    "    return check_record(data) * check_record_naive(data)"
   ]
  },
  {
   "cell_type": "code",
   "execution_count": 136,
   "metadata": {},
   "outputs": [
    {
     "data": {
      "text/plain": [
       "137"
      ]
     },
     "execution_count": 136,
     "metadata": {},
     "output_type": "execute_result"
    }
   ],
   "source": [
    "sum(list(map(ultimate_check, data)))"
   ]
  },
  {
   "cell_type": "code",
   "execution_count": null,
   "metadata": {},
   "outputs": [],
   "source": []
  }
 ],
 "metadata": {
  "kernelspec": {
   "display_name": "Python 3",
   "language": "python",
   "name": "python3"
  },
  "language_info": {
   "codemirror_mode": {
    "name": "ipython",
    "version": 3
   },
   "file_extension": ".py",
   "mimetype": "text/x-python",
   "name": "python",
   "nbconvert_exporter": "python",
   "pygments_lexer": "ipython3",
   "version": "3.7.6"
  }
 },
 "nbformat": 4,
 "nbformat_minor": 4
}
