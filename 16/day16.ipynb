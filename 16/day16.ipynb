{
 "cells": [
  {
   "cell_type": "code",
   "execution_count": 24,
   "metadata": {},
   "outputs": [],
   "source": [
    "import re"
   ]
  },
  {
   "cell_type": "code",
   "execution_count": 1,
   "metadata": {},
   "outputs": [],
   "source": [
    "f = open('input.txt')\n",
    "raw = f.read()\n",
    "f.close()"
   ]
  },
  {
   "cell_type": "code",
   "execution_count": 82,
   "metadata": {},
   "outputs": [],
   "source": [
    "rules, ticket, nearby_tickets = raw[:-1].split('\\n\\n')\n",
    "rules = rules.split('\\n')\n",
    "ticket = [int(i) for i in ticket.split('\\n')[-1].split(',')]\n",
    "nearby_tickets = nearby_tickets.split('\\n')[1:]"
   ]
  },
  {
   "cell_type": "markdown",
   "metadata": {},
   "source": [
    "Start by determining which tickets are completely invalid; these are tickets that contain values which aren't valid for any field. Ignore your ticket for now.\n",
    "\n"
   ]
  },
  {
   "cell_type": "code",
   "execution_count": 44,
   "metadata": {},
   "outputs": [],
   "source": [
    "rules_list = []\n",
    "for rule in rules:\n",
    "    field, ranges = rule.split(': ')\n",
    "    two_ranges = ranges.split(' or ')\n",
    "    for each in two_ranges:\n",
    "        ends = [int(i) for i in each.split('-')]\n",
    "        rules_list.append(range(ends[0], ends[1]+1))"
   ]
  },
  {
   "cell_type": "code",
   "execution_count": 64,
   "metadata": {},
   "outputs": [],
   "source": [
    "scanning_error_rate = 0\n",
    "for ticket in nearby_tickets:\n",
    "    for value in [int(i) for i in ticket.split(',')]:\n",
    "        log.append((value, sum([value in range_ for range_ in rules_list]) == 0))\n",
    "        if sum([value in range_ for range_ in rules_list]) == 0:\n",
    "            scanning_error_rate += value"
   ]
  },
  {
   "cell_type": "code",
   "execution_count": 65,
   "metadata": {},
   "outputs": [
    {
     "data": {
      "text/plain": [
       "29851"
      ]
     },
     "execution_count": 65,
     "metadata": {},
     "output_type": "execute_result"
    }
   ],
   "source": [
    "scanning_error_rate"
   ]
  },
  {
   "cell_type": "code",
   "execution_count": 67,
   "metadata": {},
   "outputs": [],
   "source": [
    "rules_dict = {}\n",
    "for rule in rules:\n",
    "    field, ranges = rule.split(': ')\n",
    "    two_ranges = ranges.split(' or ')\n",
    "    rules_dict[field] = []\n",
    "    for each in two_ranges:\n",
    "        ends = [int(i) for i in each.split('-')]\n",
    "        rules_dict[field].append(range(ends[0], ends[1]+1))"
   ]
  },
  {
   "cell_type": "code",
   "execution_count": 76,
   "metadata": {},
   "outputs": [],
   "source": [
    "valid_tickets = []\n",
    "for ticket_ in nearby_tickets:\n",
    "    invalid = False\n",
    "    for value in [int(i) for i in ticket_.split(',')]:\n",
    "        if sum([value in range_ for range_ in rules_list]) == 0:\n",
    "            invalid = True\n",
    "            break\n",
    "    if not invalid:\n",
    "        valid_tickets.append([int(i) for i in ticket_.split(',')])"
   ]
  },
  {
   "cell_type": "code",
   "execution_count": 142,
   "metadata": {},
   "outputs": [],
   "source": [
    "possible_fields = {}\n",
    "\n",
    "for i in range(len(ticket)):\n",
    "    considered_values = []\n",
    "    for ticket_ in valid_tickets:\n",
    "        considered_values.append(ticket_[i])\n",
    "    considered_values.sort()\n",
    "    \n",
    "    possible_fields[i] = []\n",
    "    for field in rules_dict:\n",
    "        mismatch = False\n",
    "        for value in considered_values:\n",
    "            if sum([value in i for i in rules_dict[field]]) == 0:\n",
    "                mismatch = True\n",
    "                break\n",
    "        if not mismatch:\n",
    "            possible_fields[i].append(field)"
   ]
  },
  {
   "cell_type": "code",
   "execution_count": 143,
   "metadata": {},
   "outputs": [],
   "source": [
    "updated = True\n",
    "dd = {}\n",
    "while updated:\n",
    "    updated = False\n",
    "    for i in possible_fields:\n",
    "        if len(possible_fields[i]) == 1:\n",
    "            updated = True\n",
    "            field_to_remove = possible_fields[i][0]\n",
    "            dd[i] = possible_fields[i][0]\n",
    "            del possible_fields[i]\n",
    "            for j in possible_fields:\n",
    "                try:\n",
    "                    possible_fields[j].remove(field_to_remove)\n",
    "                except ValueError:\n",
    "                    pass\n",
    "            break"
   ]
  },
  {
   "cell_type": "code",
   "execution_count": 146,
   "metadata": {},
   "outputs": [],
   "source": [
    "ans = 1\n",
    "for i in dd:\n",
    "    if 'departure' in dd[i]:\n",
    "        ans *= ticket[i]"
   ]
  },
  {
   "cell_type": "code",
   "execution_count": 147,
   "metadata": {},
   "outputs": [
    {
     "data": {
      "text/plain": [
       "3029180675981"
      ]
     },
     "execution_count": 147,
     "metadata": {},
     "output_type": "execute_result"
    }
   ],
   "source": [
    "ans"
   ]
  }
 ],
 "metadata": {
  "kernelspec": {
   "display_name": "Python 3",
   "language": "python",
   "name": "python3"
  },
  "language_info": {
   "codemirror_mode": {
    "name": "ipython",
    "version": 3
   },
   "file_extension": ".py",
   "mimetype": "text/x-python",
   "name": "python",
   "nbconvert_exporter": "python",
   "pygments_lexer": "ipython3",
   "version": "3.7.6"
  }
 },
 "nbformat": 4,
 "nbformat_minor": 4
}
