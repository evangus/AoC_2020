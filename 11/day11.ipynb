{
 "cells": [
  {
   "cell_type": "code",
   "execution_count": 1,
   "metadata": {},
   "outputs": [],
   "source": [
    "f = open('input.txt')\n",
    "raw = f.read()\n",
    "f.close()"
   ]
  },
  {
   "cell_type": "code",
   "execution_count": 2,
   "metadata": {},
   "outputs": [],
   "source": [
    "data = raw[:-1].split('\\n')"
   ]
  },
  {
   "cell_type": "code",
   "execution_count": 3,
   "metadata": {},
   "outputs": [],
   "source": [
    "sample = '''L.LL.LL.LL\\nLLLLLLL.LL\\nL.L.L..L..\\nLLLL.LL.LL\\nL.LL.LL.LL\\nL.LLLLL.LL\\n..L.L.....\\nLLLLLLLLLL\\nL.LLLLLL.L\\nL.LLLLL.LL'''"
   ]
  },
  {
   "cell_type": "code",
   "execution_count": 4,
   "metadata": {},
   "outputs": [],
   "source": [
    "sample_data = sample.split('\\n')"
   ]
  },
  {
   "cell_type": "code",
   "execution_count": 5,
   "metadata": {},
   "outputs": [
    {
     "data": {
      "text/plain": [
       "'99 x 95'"
      ]
     },
     "execution_count": 5,
     "metadata": {},
     "output_type": "execute_result"
    }
   ],
   "source": [
    "f'{len(data[0])} x {len(data)}'"
   ]
  },
  {
   "cell_type": "markdown",
   "metadata": {},
   "source": [
    "- If a seat is empty (`L`) and there are no occupied seats adjacent to it, the seat becomes occupied.\n",
    "- If a seat is occupied (`#`) and four or more seats adjacent to it are also occupied, the seat becomes empty.\n",
    "- Otherwise, the seat's state does not change."
   ]
  },
  {
   "cell_type": "code",
   "execution_count": 6,
   "metadata": {},
   "outputs": [],
   "source": [
    "class WaitingArea:\n",
    "    positionDict = {'L':0, '#':1, '.':0}\n",
    "    \n",
    "    def __init__(self, pattern_array):\n",
    "        self.map = pattern_array\n",
    "        self.current_map = pattern_array\n",
    "        self.rounds = 0\n",
    "        \n",
    "    def adjacent_occupied_seats(self, x, y):\n",
    "        ans = 0\n",
    "        for dx in [-1, 0, 1]:\n",
    "            for dy in [-1, 0, 1]:\n",
    "                if (dx == 0) and (dy == 0):\n",
    "                    continue\n",
    "                elif (x + dx) < 0 or (y + dy) <0:\n",
    "                    continue\n",
    "                try:\n",
    "                    ans += WaitingArea.positionDict[self.current_map[y + dy][x + dx]]\n",
    "                except IndexError:\n",
    "                    pass\n",
    "        return ans\n",
    "    \n",
    "    def update_map(self):\n",
    "        new_map = [''] * len(self.current_map)\n",
    "        updated = False\n",
    "        for y, row in enumerate(self.current_map):\n",
    "            for x, symbol in enumerate(self.current_map[y]):\n",
    "                if symbol == 'L' and self.adjacent_occupied_seats(x,y) == 0:\n",
    "                    new_map[y] += '#'\n",
    "                    updated = True\n",
    "                elif symbol == '#' and self.adjacent_occupied_seats(x,y) >= 4:\n",
    "                    new_map[y] += 'L'\n",
    "                    updated = True\n",
    "                else:\n",
    "                    new_map[y] += symbol\n",
    "        if updated == True:\n",
    "            self.current_map = new_map\n",
    "            self.rounds += 1\n",
    "        return updated\n",
    "    \n",
    "    def iterate(self):\n",
    "        while self.update_map() == True:\n",
    "            pass\n",
    "    \n",
    "    def occupied(self):\n",
    "        ans = 0\n",
    "        for row in self.current_map:\n",
    "            ans += row.count('#')\n",
    "        return ans"
   ]
  },
  {
   "cell_type": "code",
   "execution_count": 7,
   "metadata": {},
   "outputs": [],
   "source": [
    "test = WaitingArea(data)"
   ]
  },
  {
   "cell_type": "code",
   "execution_count": 8,
   "metadata": {},
   "outputs": [
    {
     "name": "stdout",
     "output_type": "stream",
     "text": [
      "CPU times: user 3.22 s, sys: 4.62 ms, total: 3.22 s\n",
      "Wall time: 3.22 s\n"
     ]
    }
   ],
   "source": [
    "%%time\n",
    "test.iterate()"
   ]
  },
  {
   "cell_type": "code",
   "execution_count": 9,
   "metadata": {},
   "outputs": [
    {
     "data": {
      "text/plain": [
       "2438"
      ]
     },
     "execution_count": 9,
     "metadata": {},
     "output_type": "execute_result"
    }
   ],
   "source": [
    "test.occupied()"
   ]
  },
  {
   "cell_type": "code",
   "execution_count": 54,
   "metadata": {},
   "outputs": [],
   "source": [
    "class WaitingArea2(WaitingArea):\n",
    "    def __init__(self, pattern_array):\n",
    "        super().__init__(pattern_array)\n",
    "        \n",
    "    def visible_occupied_seats(self, x, y):\n",
    "        ans = 0\n",
    "        for dx in [-1, 0, 1]:\n",
    "            for dy in [-1, 0, 1]:\n",
    "                if (dx == 0) and (dy == 0):\n",
    "                    continue\n",
    "                n = 1\n",
    "                try:\n",
    "                    while (self.current_map[y + n * dy][x + n * dx] == '.'):\n",
    "                        n += 1\n",
    "                    if (y + n * dy >= 0) & (x + n * dx >= 0):\n",
    "                        ans += WaitingArea2.positionDict[self.current_map[y + n * dy][x + n * dx]]\n",
    "                except IndexError:\n",
    "                    pass                    \n",
    "        return ans\n",
    "        \n",
    "    def update_map(self):\n",
    "        new_map = [''] * len(self.current_map)\n",
    "        updated = False\n",
    "        for y, row in enumerate(self.current_map):\n",
    "            for x, symbol in enumerate(self.current_map[y]):\n",
    "                if symbol == 'L' and self.visible_occupied_seats(x,y) == 0:\n",
    "                    new_map[y] += '#'\n",
    "                    updated = True\n",
    "                elif symbol == '#' and self.visible_occupied_seats(x,y) >= 5:\n",
    "                    new_map[y] += 'L'\n",
    "                    updated = True\n",
    "                else:\n",
    "                    new_map[y] += symbol\n",
    "        if updated == True:\n",
    "            self.current_map = new_map\n",
    "            self.rounds += 1\n",
    "        return updated\n"
   ]
  },
  {
   "cell_type": "code",
   "execution_count": 66,
   "metadata": {},
   "outputs": [],
   "source": [
    "test2 = WaitingArea2(data)"
   ]
  },
  {
   "cell_type": "code",
   "execution_count": 67,
   "metadata": {},
   "outputs": [
    {
     "name": "stdout",
     "output_type": "stream",
     "text": [
      "CPU times: user 4.74 s, sys: 3.69 ms, total: 4.74 s\n",
      "Wall time: 4.74 s\n"
     ]
    }
   ],
   "source": [
    "%%time\n",
    "test2.iterate()"
   ]
  },
  {
   "cell_type": "code",
   "execution_count": 68,
   "metadata": {},
   "outputs": [
    {
     "name": "stdout",
     "output_type": "stream",
     "text": [
      "After 88 rounds: 2174 occupied\n"
     ]
    }
   ],
   "source": [
    "print(f'After {test2.rounds} rounds: {test2.occupied()} occupied')"
   ]
  }
 ],
 "metadata": {
  "kernelspec": {
   "display_name": "Python 3",
   "language": "python",
   "name": "python3"
  },
  "language_info": {
   "codemirror_mode": {
    "name": "ipython",
    "version": 3
   },
   "file_extension": ".py",
   "mimetype": "text/x-python",
   "name": "python",
   "nbconvert_exporter": "python",
   "pygments_lexer": "ipython3",
   "version": "3.7.6"
  }
 },
 "nbformat": 4,
 "nbformat_minor": 4
}
