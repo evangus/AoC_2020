{
 "cells": [
  {
   "cell_type": "code",
   "execution_count": 1,
   "metadata": {},
   "outputs": [],
   "source": [
    "sample_data = '''0,3,6\n",
    "1,3,2\n",
    "2,1,3\n",
    "1,2,3\n",
    "2,3,1\n",
    "3,2,1\n",
    "3,1,2\n",
    "'''.split('\\n')\n",
    "\n",
    "sample_answers = [436, 1, 10, 27, 78, 438, 1836]"
   ]
  },
  {
   "cell_type": "code",
   "execution_count": 67,
   "metadata": {},
   "outputs": [],
   "source": [
    "input_data = '16,12,1,0,15,7,11'"
   ]
  },
  {
   "cell_type": "code",
   "execution_count": 62,
   "metadata": {},
   "outputs": [],
   "source": [
    "class ElfGame:\n",
    "    def __init__(self, starting_numbers_string):\n",
    "        self.starting_numbers = [int(i) for i in starting_numbers_string.split(',')]\n",
    "        self.last_spoken = None\n",
    "        self.log = []\n",
    "        self.spoken = {}\n",
    "        \n",
    "    def say(self, number):\n",
    "        self.last_spoken = number\n",
    "        self.log.append(number)\n",
    "        \n",
    "    def log_turn(self, number, turn):\n",
    "        try:\n",
    "            self.spoken[number].append(turn)\n",
    "        except KeyError:\n",
    "            self.spoken[number] = [turn]\n",
    "            \n",
    "        \n",
    "    def play(self, until):\n",
    "        for i in range(1, until + 1):\n",
    "            if i <= len(self.starting_numbers):\n",
    "                to_say = self.starting_numbers[i-1]\n",
    "            else:\n",
    "                if len(self.spoken[self.last_spoken]) == 1:\n",
    "                    to_say = 0\n",
    "                else:\n",
    "                    to_say = self.spoken[self.last_spoken][-1] - self.spoken[self.last_spoken][-2]\n",
    "            self.say(to_say)\n",
    "            self.log_turn(to_say, i)"
   ]
  },
  {
   "cell_type": "code",
   "execution_count": 70,
   "metadata": {},
   "outputs": [
    {
     "name": "stdout",
     "output_type": "stream",
     "text": [
      "True, True, True, True, True, True, True, "
     ]
    }
   ],
   "source": [
    "for data, answer in zip(sample_data, sample_answers):\n",
    "    test = ElfGame(data)\n",
    "    test.play(2020)\n",
    "    print(test.last_spoken == answer, end = ', ')"
   ]
  },
  {
   "cell_type": "code",
   "execution_count": 68,
   "metadata": {},
   "outputs": [
    {
     "data": {
      "text/plain": [
       "403"
      ]
     },
     "execution_count": 68,
     "metadata": {},
     "output_type": "execute_result"
    }
   ],
   "source": [
    "ini = ElfGame(input_data)\n",
    "ini.play(2020)\n",
    "ini.last_spoken"
   ]
  },
  {
   "cell_type": "code",
   "execution_count": 76,
   "metadata": {},
   "outputs": [],
   "source": [
    "class ElfGame2:\n",
    "    def __init__(self, starting_numbers_string):\n",
    "        self.starting_numbers = [int(i) for i in starting_numbers_string.split(',')]\n",
    "        self.last_spoken = None\n",
    "        self.spoken = {}\n",
    "        \n",
    "    def say(self, number):\n",
    "        self.last_spoken = number\n",
    "        \n",
    "    def log_turn(self, number, turn):\n",
    "        try:\n",
    "            self.spoken[number] = [self.spoken[number][-1], turn]\n",
    "        except KeyError:\n",
    "            self.spoken[number] = [turn]\n",
    "            \n",
    "    def play(self, until):\n",
    "        for i in range(1, until + 1):\n",
    "            if i <= len(self.starting_numbers):\n",
    "                to_say = self.starting_numbers[i-1]\n",
    "            else:\n",
    "                if len(self.spoken[self.last_spoken]) == 1:\n",
    "                    to_say = 0\n",
    "                else:\n",
    "                    to_say = self.spoken[self.last_spoken][-1] - self.spoken[self.last_spoken][-2]\n",
    "            self.say(to_say)\n",
    "            self.log_turn(to_say, i)"
   ]
  },
  {
   "cell_type": "code",
   "execution_count": 77,
   "metadata": {},
   "outputs": [
    {
     "name": "stdout",
     "output_type": "stream",
     "text": [
      "True, True, True, True, True, True, True, \n",
      "\n",
      "\n",
      "CPU times: user 10min 11s, sys: 4.78 s, total: 10min 16s\n",
      "Wall time: 10min 17s\n"
     ]
    }
   ],
   "source": [
    "%%time\n",
    "for i in [('0,3,6', 175594), ('1,3,2', 2578), ('2,1,3', 3544142), ('1,2,3', 261214), \n",
    "          ('2,3,1', 6895259), ('3,2,1', 18), ('3,1,2', 362)]:\n",
    "    test = ElfGame2(i[0])\n",
    "    test.play(30000000)\n",
    "    print(test.last_spoken == i[1], end = ', ')\n",
    "print('\\n\\n')"
   ]
  },
  {
   "cell_type": "code",
   "execution_count": 87,
   "metadata": {},
   "outputs": [
    {
     "name": "stdout",
     "output_type": "stream",
     "text": [
      "6823\n",
      "\n",
      ":( not much faster than ElfGame\n",
      "CPU times: user 54.2 s, sys: 1.31 s, total: 55.5 s\n",
      "Wall time: 55.5 s\n"
     ]
    }
   ],
   "source": [
    "%%time\n",
    "ini = ElfGame(input_data)\n",
    "ini.play(30000000)\n",
    "print(ini.last_spoken)\n",
    "print('\\n:( not much faster than ElfGame')"
   ]
  }
 ],
 "metadata": {
  "kernelspec": {
   "display_name": "Python 3",
   "language": "python",
   "name": "python3"
  },
  "language_info": {
   "codemirror_mode": {
    "name": "ipython",
    "version": 3
   },
   "file_extension": ".py",
   "mimetype": "text/x-python",
   "name": "python",
   "nbconvert_exporter": "python",
   "pygments_lexer": "ipython3",
   "version": "3.7.6"
  }
 },
 "nbformat": 4,
 "nbformat_minor": 4
}
