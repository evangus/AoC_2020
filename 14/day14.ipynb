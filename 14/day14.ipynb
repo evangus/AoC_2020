{
 "cells": [
  {
   "cell_type": "code",
   "execution_count": 1,
   "metadata": {},
   "outputs": [],
   "source": [
    "f = open('input.txt')\n",
    "raw = f.read()\n",
    "f.close()"
   ]
  },
  {
   "cell_type": "code",
   "execution_count": 2,
   "metadata": {},
   "outputs": [],
   "source": [
    "data = raw[:-1].split('\\n')"
   ]
  },
  {
   "cell_type": "code",
   "execution_count": 3,
   "metadata": {},
   "outputs": [],
   "source": [
    "sample_data = '''mask = XXXXXXXXXXXXXXXXXXXXXXXXXXXXX1XXXX0X\n",
    "mem[8] = 11\n",
    "mem[7] = 101\n",
    "mem[8] = 0'''.split('\\n')"
   ]
  },
  {
   "cell_type": "code",
   "execution_count": 4,
   "metadata": {},
   "outputs": [],
   "source": [
    "import re\n",
    "\n",
    "class Initializer:\n",
    "    def __init__(self, program_array):\n",
    "        self.program = program_array\n",
    "        self.mask = ''\n",
    "        self.values = dict()\n",
    "    \n",
    "    def action(self, line):\n",
    "        if line[:4] == 'mask':\n",
    "            self.mask = line.partition(' = ')[-1]\n",
    "        elif line[:3] == 'mem':\n",
    "            index = re.search('\\[(.*)\\]', line)[1]\n",
    "            bin_number = bin(int(line.partition(' = ')[-1]))\n",
    "            self.values[index] = int(self.apply_mask(bin_number), 2)\n",
    "        else:\n",
    "            print(f'Unknown command {line}')\n",
    "            \n",
    "    def apply_mask(self, bin_value):\n",
    "        bin_value = bin_value[2:]\n",
    "        ans = ''\n",
    "        #we assume that mask is always bigger than the value\n",
    "        for i, symbol in enumerate(reversed(self.mask)):\n",
    "            if symbol == 'X':\n",
    "                try:\n",
    "                    ans = bin_value[-1*(i+1)] + ans\n",
    "                except IndexError:\n",
    "                    ans = '0' + ans\n",
    "            elif symbol in ['0', '1']:\n",
    "                ans = symbol + ans\n",
    "            else:\n",
    "                print(f'Unknown symbol in mask: {symbol}, {self.mask}')\n",
    "        return ans\n",
    "\n",
    "    def initialize(self):\n",
    "        for line in self.program:\n",
    "            self.action(line)\n",
    "\n",
    "    def sum_in_memory(self):\n",
    "        return sum(self.values.values())\n",
    "        "
   ]
  },
  {
   "cell_type": "code",
   "execution_count": 5,
   "metadata": {},
   "outputs": [
    {
     "name": "stdout",
     "output_type": "stream",
     "text": [
      "True\n"
     ]
    }
   ],
   "source": [
    "test = Initializer(sample_data)\n",
    "test.initialize()\n",
    "print(test.sum_in_memory() == 165)"
   ]
  },
  {
   "cell_type": "code",
   "execution_count": 6,
   "metadata": {},
   "outputs": [
    {
     "data": {
      "text/plain": [
       "13105044880745"
      ]
     },
     "execution_count": 6,
     "metadata": {},
     "output_type": "execute_result"
    }
   ],
   "source": [
    "ini = Initializer(data)\n",
    "ini.initialize()\n",
    "ini.sum_in_memory()"
   ]
  },
  {
   "cell_type": "code",
   "execution_count": 37,
   "metadata": {},
   "outputs": [],
   "source": [
    "sample_data2 = '''mask = 000000000000000000000000000000X1001X\n",
    "mem[42] = 100\n",
    "mask = 00000000000000000000000000000000X0XX\n",
    "mem[26] = 1'''.split('\\n')"
   ]
  },
  {
   "cell_type": "markdown",
   "metadata": {},
   "source": [
    "- If the bitmask bit is `0`, the corresponding memory address bit is unchanged.\n",
    "- If the bitmask bit is `1`, the corresponding memory address bit is overwritten with 1.\n",
    "- If the bitmask bit is `X`, the corresponding memory address bit is floating."
   ]
  },
  {
   "cell_type": "code",
   "execution_count": 67,
   "metadata": {},
   "outputs": [],
   "source": [
    "class Initializer2(Initializer):\n",
    "    def __init__(self, program_array):\n",
    "        super().__init__(program_array)\n",
    "    \n",
    "    def action(self, line):\n",
    "        if line[:4] == 'mask':\n",
    "            self.mask = line.partition(' = ')[-1]\n",
    "        elif line[:3] == 'mem':\n",
    "            index = bin(int(re.search('\\[(.*)\\]', line)[1]))\n",
    "            number = int(line.partition(' = ')[-1])\n",
    "            self.write(index, number)\n",
    "        else:\n",
    "            print(f'Unknown command {line}')\n",
    "    \n",
    "    def apply_mask(self, *args):\n",
    "        pass\n",
    "    \n",
    "    def write(self, index, number):\n",
    "        index = index[2:]\n",
    "        masked_index = ''\n",
    "        for i, symbol in enumerate(reversed(self.mask)):\n",
    "            if symbol == '0':\n",
    "                try:\n",
    "                    masked_index = index[-1*(i+1)] + masked_index\n",
    "                except IndexError:\n",
    "                    masked_index = '0' + masked_index\n",
    "            elif symbol in ['1', 'X']:\n",
    "                masked_index = symbol + masked_index\n",
    "            else:\n",
    "                print(f'Unknown symbol in mask: {symbol}, {self.mask}')\n",
    "        \n",
    "        for index in Initializer2.unfloat_address(masked_index):\n",
    "            self.values[index] = number\n",
    "    \n",
    "    @staticmethod\n",
    "    def unfloat_address(index):\n",
    "        ans = ['']\n",
    "        for symbol in index:\n",
    "            if symbol == 'X':\n",
    "                ans = ans * 2\n",
    "                ans[:int(len(ans)/2)] = [i + '0' for i in ans[:int(len(ans)/2)]]\n",
    "                ans[int(len(ans)/2):] = [i + '1' for i in ans[int(len(ans)/2):]]\n",
    "            else:\n",
    "                ans = [i + symbol for i in ans]\n",
    "        return ans"
   ]
  },
  {
   "cell_type": "code",
   "execution_count": 73,
   "metadata": {},
   "outputs": [
    {
     "name": "stdout",
     "output_type": "stream",
     "text": [
      "True\n"
     ]
    }
   ],
   "source": [
    "test2 = Initializer2(sample_data2)\n",
    "test2.initialize()\n",
    "print(test2.sum_in_memory() == 208)"
   ]
  },
  {
   "cell_type": "code",
   "execution_count": 76,
   "metadata": {},
   "outputs": [
    {
     "data": {
      "text/plain": [
       "3505392154485"
      ]
     },
     "execution_count": 76,
     "metadata": {},
     "output_type": "execute_result"
    }
   ],
   "source": [
    "ini2 = Initializer2(data)\n",
    "ini2.initialize()\n",
    "ini2.sum_in_memory()"
   ]
  }
 ],
 "metadata": {
  "kernelspec": {
   "display_name": "Python 3",
   "language": "python",
   "name": "python3"
  },
  "language_info": {
   "codemirror_mode": {
    "name": "ipython",
    "version": 3
   },
   "file_extension": ".py",
   "mimetype": "text/x-python",
   "name": "python",
   "nbconvert_exporter": "python",
   "pygments_lexer": "ipython3",
   "version": "3.7.6"
  }
 },
 "nbformat": 4,
 "nbformat_minor": 4
}
