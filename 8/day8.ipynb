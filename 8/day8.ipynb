{
 "cells": [
  {
   "cell_type": "code",
   "execution_count": 1,
   "metadata": {},
   "outputs": [],
   "source": [
    "f = open('input.txt')\n",
    "raw = f.read()\n",
    "f.close()"
   ]
  },
  {
   "cell_type": "code",
   "execution_count": 2,
   "metadata": {},
   "outputs": [],
   "source": [
    "data = raw[:-1].split('\\n')"
   ]
  },
  {
   "cell_type": "code",
   "execution_count": 18,
   "metadata": {},
   "outputs": [],
   "source": [
    "class GameBoy:\n",
    "    def __init__(self, boot_commands_array):\n",
    "        self.accumulator = 0\n",
    "        self.commands = boot_commands_array\n",
    "        self.executed_commands = set()\n",
    "        self.last_command = 0\n",
    "        self.log = ''\n",
    "    \n",
    "    def action(self, command_line_index):\n",
    "        command, value = self.commands[command_line_index].split(' ')\n",
    "        if command == 'acc':\n",
    "            self.accumulator += int(value)\n",
    "            self.log += f'{command_line_index} executed: accumulator = {self.accumulator}\\n'\n",
    "            return command_line_index + 1\n",
    "        elif command == 'jmp':\n",
    "            self.log += f'{command_line_index} executed: jump {value}\\n'\n",
    "            return command_line_index + int(value)\n",
    "        elif command == 'nop':\n",
    "            self.log += f'{command_line_index} executed: no operation\\n'\n",
    "            return command_line_index + 1\n",
    "    \n",
    "    def boot(self):\n",
    "        while self.last_command not in self.executed_commands:\n",
    "            self.executed_commands.add(int(self.last_command))\n",
    "            self.last_command = self.action(self.last_command)\n",
    "            if self.last_command == len(self.commands):\n",
    "                break"
   ]
  },
  {
   "cell_type": "markdown",
   "metadata": {},
   "source": [
    "- `acc` increases or decreases a single global value called the **`accumulator`** by the value given in the argument. For example, `acc +7` would increase the `accumulator` by `7`. The `accumulator` starts at `0`. After an `acc` instruction, the instruction immediately below it is executed next.\n",
    "\n",
    "- `jmp` jumps to a new instruction relative to itself. The next instruction to execute is found using the argument as an offset from the `jmp` instruction; for example, `jmp +2` would skip the next instruction, `jmp +1` would continue to the instruction immediately below it, and `jmp -20` would cause the instruction 20 lines above to be executed next.\n",
    "\n",
    "- `nop` stands for **No OPeration** - it does nothing. The instruction immediately below it is executed next."
   ]
  },
  {
   "cell_type": "code",
   "execution_count": 19,
   "metadata": {},
   "outputs": [],
   "source": [
    "test = GameBoy(data)"
   ]
  },
  {
   "cell_type": "code",
   "execution_count": 20,
   "metadata": {},
   "outputs": [],
   "source": [
    "test.boot()"
   ]
  },
  {
   "cell_type": "code",
   "execution_count": 21,
   "metadata": {},
   "outputs": [
    {
     "data": {
      "text/plain": [
       "1782"
      ]
     },
     "execution_count": 21,
     "metadata": {},
     "output_type": "execute_result"
    }
   ],
   "source": [
    "test.accumulator"
   ]
  },
  {
   "cell_type": "code",
   "execution_count": 45,
   "metadata": {},
   "outputs": [
    {
     "name": "stdout",
     "output_type": "stream",
     "text": [
      "changed line 253 and got 797\n",
      "\n",
      "CPU times: user 61.7 ms, sys: 1.71 ms, total: 63.4 ms\n",
      "Wall time: 62.2 ms\n"
     ]
    }
   ],
   "source": [
    "%%time\n",
    "\n",
    "swap = {'jmp':'nop', 'nop':'jmp'}\n",
    "\n",
    "for i, line in enumerate(data):\n",
    "    if line[:3] == 'acc':\n",
    "        pass\n",
    "    else:\n",
    "        test = GameBoy(data[:i] + [swap[line[:3]] + line[3:]] + data[i+1:])\n",
    "        test.boot()\n",
    "        if test.last_command == len(test.commands):\n",
    "            print(f'changed line {i} and got {test.accumulator}\\n')\n",
    "            break"
   ]
  }
 ],
 "metadata": {
  "kernelspec": {
   "display_name": "Python 3",
   "language": "python",
   "name": "python3"
  },
  "language_info": {
   "codemirror_mode": {
    "name": "ipython",
    "version": 3
   },
   "file_extension": ".py",
   "mimetype": "text/x-python",
   "name": "python",
   "nbconvert_exporter": "python",
   "pygments_lexer": "ipython3",
   "version": "3.7.6"
  }
 },
 "nbformat": 4,
 "nbformat_minor": 4
}
