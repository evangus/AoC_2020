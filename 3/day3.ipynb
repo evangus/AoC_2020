{
 "cells": [
  {
   "cell_type": "code",
   "execution_count": 6,
   "metadata": {},
   "outputs": [],
   "source": [
    "import numpy as np"
   ]
  },
  {
   "cell_type": "code",
   "execution_count": 1,
   "metadata": {},
   "outputs": [],
   "source": [
    "f = open(\"input.txt\", \"r\")"
   ]
  },
  {
   "cell_type": "code",
   "execution_count": 2,
   "metadata": {},
   "outputs": [],
   "source": [
    "pattern = f.read()"
   ]
  },
  {
   "cell_type": "code",
   "execution_count": 5,
   "metadata": {},
   "outputs": [],
   "source": [
    "f.close()"
   ]
  },
  {
   "cell_type": "code",
   "execution_count": 19,
   "metadata": {},
   "outputs": [
    {
     "name": "stdout",
     "output_type": "stream",
     "text": [
      "pattern is 31 by 323\n"
     ]
    }
   ],
   "source": [
    "print('pattern is', len(pattern[:-1].split('\\n')[0]), 'by', len(pattern[:-1].split('\\n')))"
   ]
  },
  {
   "cell_type": "code",
   "execution_count": 21,
   "metadata": {},
   "outputs": [],
   "source": [
    "slope = pattern[:-1].split('\\n')"
   ]
  },
  {
   "cell_type": "code",
   "execution_count": 43,
   "metadata": {},
   "outputs": [],
   "source": [
    "def tree(x,y):\n",
    "    return slope[y][x]\n",
    "\n",
    "def check_tree(x,y):\n",
    "    return (tree(x,y) == '#')\n",
    "\n",
    "def new_x(x, step_x):\n",
    "    return (x + step_x) % 31"
   ]
  },
  {
   "cell_type": "code",
   "execution_count": 44,
   "metadata": {},
   "outputs": [],
   "source": [
    "step_x = 3\n",
    "step_y = 1\n",
    "x = 0\n",
    "y = 0"
   ]
  },
  {
   "cell_type": "code",
   "execution_count": 45,
   "metadata": {},
   "outputs": [
    {
     "name": "stdout",
     "output_type": "stream",
     "text": [
      "262\n"
     ]
    }
   ],
   "source": [
    "ans = 0\n",
    "while y <= 322:\n",
    "    ans += check_tree(x,y)\n",
    "    x = new_x(x, step_x)\n",
    "    y += step_y\n",
    "print(ans)"
   ]
  },
  {
   "cell_type": "code",
   "execution_count": 46,
   "metadata": {},
   "outputs": [
    {
     "name": "stdout",
     "output_type": "stream",
     "text": [
      "78\n",
      "262\n",
      "66\n",
      "69\n",
      "29\n",
      "2698900776\n"
     ]
    }
   ],
   "source": [
    "global_ans = 1\n",
    "\n",
    "for step_x, step_y in [(1,1),(3,1),(5,1),(7,1),(1,2)]:\n",
    "    x = 0\n",
    "    y = 0\n",
    "    ans = 0\n",
    "    while y<=322:\n",
    "        ans += check_tree(x,y)\n",
    "        x = new_x(x, step_x)\n",
    "        y += step_y\n",
    "    print(ans)\n",
    "    global_ans = global_ans * ans\n",
    "\n",
    "print(global_ans)"
   ]
  }
 ],
 "metadata": {
  "kernelspec": {
   "display_name": "Python 3",
   "language": "python",
   "name": "python3"
  },
  "language_info": {
   "codemirror_mode": {
    "name": "ipython",
    "version": 3
   },
   "file_extension": ".py",
   "mimetype": "text/x-python",
   "name": "python",
   "nbconvert_exporter": "python",
   "pygments_lexer": "ipython3",
   "version": "3.7.6"
  }
 },
 "nbformat": 4,
 "nbformat_minor": 4
}
