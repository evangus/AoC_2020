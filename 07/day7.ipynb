{
 "cells": [
  {
   "cell_type": "code",
   "execution_count": 1,
   "metadata": {},
   "outputs": [],
   "source": [
    "f = open('input.txt')\n",
    "raw = f.read()\n",
    "f.close()"
   ]
  },
  {
   "cell_type": "code",
   "execution_count": 4,
   "metadata": {},
   "outputs": [],
   "source": [
    "data = raw[:-1].split('\\n')"
   ]
  },
  {
   "cell_type": "code",
   "execution_count": 6,
   "metadata": {},
   "outputs": [],
   "source": [
    "key0 = 'shiny gold'"
   ]
  },
  {
   "cell_type": "code",
   "execution_count": null,
   "metadata": {},
   "outputs": [],
   "source": [
    "dd = {}\n",
    "for rule in data:\n",
    "    rule_arr = rule.split(' bags contain ')\n",
    "    if 'no' in rule_arr[1]:\n",
    "        pass\n",
    "    else:\n",
    "        inner_bags = rule_arr[1].split(', ')\n",
    "        for bag in inner_bags:\n",
    "            try:\n",
    "                dd[' '.join(bag.split(' ')[1:3])].append(rule_arr[0])\n",
    "            except KeyError:\n",
    "                dd[' '.join(bag.split(' ')[1:3])] = [rule_arr[0]]"
   ]
  },
  {
   "cell_type": "code",
   "execution_count": 62,
   "metadata": {},
   "outputs": [],
   "source": [
    "ans = set()\n",
    "check = [key0]\n",
    "\n",
    "while check:\n",
    "    check_next = []\n",
    "    for key in check:\n",
    "        try:\n",
    "            check_next += dd[key]\n",
    "            ans = ans.union(set(dd[key]))\n",
    "        except KeyError:\n",
    "            pass\n",
    "    check = check_next        "
   ]
  },
  {
   "cell_type": "code",
   "execution_count": 63,
   "metadata": {},
   "outputs": [
    {
     "data": {
      "text/plain": [
       "192"
      ]
     },
     "execution_count": 63,
     "metadata": {},
     "output_type": "execute_result"
    }
   ],
   "source": [
    "len(ans)"
   ]
  },
  {
   "cell_type": "code",
   "execution_count": 64,
   "metadata": {},
   "outputs": [],
   "source": [
    "def write_to_dd(key, value, dd):\n",
    "    try:\n",
    "        dd[key].append(value)\n",
    "    except KeyError:\n",
    "        dd[key] = [value]"
   ]
  },
  {
   "cell_type": "code",
   "execution_count": 71,
   "metadata": {},
   "outputs": [
    {
     "name": "stdout",
     "output_type": "stream",
     "text": [
      "CPU times: user 3.78 ms, sys: 105 µs, total: 3.89 ms\n",
      "Wall time: 3.87 ms\n"
     ]
    }
   ],
   "source": [
    "%%time\n",
    "dd2 = {}\n",
    "for rule in data:\n",
    "    rule_arr = rule.split(' bags contain ')\n",
    "    if 'no' in rule_arr[1]:\n",
    "        write_to_dd(rule_arr[0], ('', 0), dd2)\n",
    "    else:\n",
    "        inner_bags = rule_arr[1].split(', ')\n",
    "        for bag in inner_bags:\n",
    "            write_to_dd(rule_arr[0], (' '.join(bag.split(' ')[1:3]), int(bag.split(' ')[0])), dd2)"
   ]
  },
  {
   "cell_type": "code",
   "execution_count": 91,
   "metadata": {},
   "outputs": [],
   "source": [
    "def solve(start_key, dd = dd2):\n",
    "    if dd[start_key][0][1] == 0:\n",
    "        return 0\n",
    "    else:\n",
    "        return sum([bag[1] * (solve(bag[0]) + 1) for bag in dd[start_key]])\n",
    "    "
   ]
  },
  {
   "cell_type": "code",
   "execution_count": 92,
   "metadata": {},
   "outputs": [
    {
     "data": {
      "text/plain": [
       "12128"
      ]
     },
     "execution_count": 92,
     "metadata": {},
     "output_type": "execute_result"
    }
   ],
   "source": [
    "solve(key0)"
   ]
  }
 ],
 "metadata": {
  "kernelspec": {
   "display_name": "Python 3",
   "language": "python",
   "name": "python3"
  },
  "language_info": {
   "codemirror_mode": {
    "name": "ipython",
    "version": 3
   },
   "file_extension": ".py",
   "mimetype": "text/x-python",
   "name": "python",
   "nbconvert_exporter": "python",
   "pygments_lexer": "ipython3",
   "version": "3.7.6"
  }
 },
 "nbformat": 4,
 "nbformat_minor": 4
}
